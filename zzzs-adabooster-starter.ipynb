{
 "cells": [
  {
   "cell_type": "markdown",
   "id": "f3fd9e15",
   "metadata": {
    "_cell_guid": "b1076dfc-b9ad-4769-8c92-a6c4dae69d19",
    "_uuid": "8f2839f25d086af736a60e9eeb907d3b93b6e0e5",
    "papermill": {
     "duration": 0.005068,
     "end_time": "2023-09-10T20:54:55.329450",
     "exception": false,
     "start_time": "2023-09-10T20:54:55.324382",
     "status": "completed"
    },
    "tags": []
   },
   "source": [
    "### Simple Random Forest classifier submission\n",
    "**Author: [Carl McBride Ellis](https://www.kaggle.com/carlmcbrideellis)** ([LinkedIn](https://www.linkedin.com/in/carl-mcbride-ellis/))\n",
    "\n",
    "\n",
    "We shall be using the training data from the reduced dataset [\"Zzzs: Lightweight training dataset + target\"](https://www.kaggle.com/datasets/carlmcbrideellis/zzzs-lightweight-training-dataset-target)"
   ]
  },
  {
   "cell_type": "code",
   "execution_count": 1,
   "id": "89fb1c49",
   "metadata": {
    "_kg_hide-input": true,
    "execution": {
     "iopub.execute_input": "2023-09-10T20:54:55.340335Z",
     "iopub.status.busy": "2023-09-10T20:54:55.339235Z",
     "iopub.status.idle": "2023-09-10T20:54:56.156328Z",
     "shell.execute_reply": "2023-09-10T20:54:56.154896Z"
    },
    "papermill": {
     "duration": 0.825161,
     "end_time": "2023-09-10T20:54:56.158964",
     "exception": false,
     "start_time": "2023-09-10T20:54:55.333803",
     "status": "completed"
    },
    "tags": []
   },
   "outputs": [],
   "source": [
    "import numpy as np\n",
    "import pandas as pd\n",
    "from itertools import groupby"
   ]
  },
  {
   "cell_type": "code",
   "execution_count": 2,
   "id": "3c9dea87",
   "metadata": {
    "execution": {
     "iopub.execute_input": "2023-09-10T20:54:56.169930Z",
     "iopub.status.busy": "2023-09-10T20:54:56.169454Z",
     "iopub.status.idle": "2023-09-10T20:55:55.753959Z",
     "shell.execute_reply": "2023-09-10T20:55:55.752274Z"
    },
    "papermill": {
     "duration": 59.592839,
     "end_time": "2023-09-10T20:55:55.756391",
     "exception": false,
     "start_time": "2023-09-10T20:54:56.163552",
     "status": "completed"
    },
    "tags": []
   },
   "outputs": [],
   "source": [
    "train = pd.read_parquet(\"/kaggle/input/zzzs-lightweight-training-dataset-target/Zzzs_train.parquet\")\n",
    "test  = pd.read_parquet(\"/kaggle/input/child-mind-institute-detect-sleep-states/test_series.parquet\")\n",
    "train.dropna()\n",
    "test.dropna()\n",
    "# parse the timestamp and create an \"hour\" feature\n",
    "train[\"timestamp\"] = pd.to_datetime(train[\"timestamp\"],utc=True)\n",
    "train[\"hour\"] = train[\"timestamp\"].dt.hour\n",
    "\n",
    "test[\"timestamp\"] = pd.to_datetime(test[\"timestamp\"],utc=True)\n",
    "test[\"hour\"] = test[\"timestamp\"].dt.hour"
   ]
  },
  {
   "cell_type": "markdown",
   "id": "272fdfd6",
   "metadata": {
    "papermill": {
     "duration": 0.004184,
     "end_time": "2023-09-10T20:55:55.765091",
     "exception": false,
     "start_time": "2023-09-10T20:55:55.760907",
     "status": "completed"
    },
    "tags": []
   },
   "source": [
    "random forest"
   ]
  },
  {
   "cell_type": "markdown",
   "id": "7c12e794",
   "metadata": {
    "execution": {
     "iopub.execute_input": "2023-09-10T17:19:26.327201Z",
     "iopub.status.busy": "2023-09-10T17:19:26.326659Z",
     "iopub.status.idle": "2023-09-10T17:52:40.196060Z",
     "shell.execute_reply": "2023-09-10T17:52:40.195017Z",
     "shell.execute_reply.started": "2023-09-10T17:19:26.327149Z"
    },
    "papermill": {
     "duration": 0.004,
     "end_time": "2023-09-10T20:55:55.773342",
     "exception": false,
     "start_time": "2023-09-10T20:55:55.769342",
     "status": "completed"
    },
    "tags": []
   },
   "source": [
    "%%time\n",
    "from sklearn.ensemble import RandomForestClassifier\n",
    "from sklearn.utils import resample\n",
    "\n",
    "X_train = train[[\"anglez\",\"enmo\",\"hour\"]]\n",
    "y_train = train[\"awake\"]\n",
    "\n",
    "classifier = RandomForestClassifier(n_estimators=100,\n",
    "                                    max_depth=10,\n",
    "                                    min_samples_leaf=500,random_state=42)\n",
    "\n",
    "\n",
    "\n",
    "classifier.fit(X_train, y_train)"
   ]
  },
  {
   "cell_type": "markdown",
   "id": "114aa3ca",
   "metadata": {
    "papermill": {
     "duration": 0.004015,
     "end_time": "2023-09-10T20:55:55.781520",
     "exception": false,
     "start_time": "2023-09-10T20:55:55.777505",
     "status": "completed"
    },
    "tags": []
   },
   "source": [
    "gxboost"
   ]
  },
  {
   "cell_type": "markdown",
   "id": "2c28ef0b",
   "metadata": {
    "execution": {
     "iopub.execute_input": "2023-09-10T19:46:47.356098Z",
     "iopub.status.busy": "2023-09-10T19:46:47.355785Z",
     "iopub.status.idle": "2023-09-10T19:51:29.955098Z",
     "shell.execute_reply": "2023-09-10T19:51:29.954031Z",
     "shell.execute_reply.started": "2023-09-10T19:46:47.356070Z"
    },
    "papermill": {
     "duration": 0.003893,
     "end_time": "2023-09-10T20:55:55.789570",
     "exception": false,
     "start_time": "2023-09-10T20:55:55.785677",
     "status": "completed"
    },
    "tags": []
   },
   "source": [
    "import xgboost as xgb\n",
    "from sklearn.metrics import accuracy_score\n",
    "from sklearn.model_selection import train_test_split\n",
    "\n",
    "X_train = train[[\"anglez\",\"enmo\",\"hour\"]]\n",
    "y_train = train[\"awake\"]\n",
    "\n",
    "# Initialize and train an XGBoost classifier\n",
    "classifier = xgb.XGBClassifier()\n",
    "classifier.fit(X_train, y_train)\n"
   ]
  },
  {
   "cell_type": "markdown",
   "id": "04a49f5b",
   "metadata": {
    "papermill": {
     "duration": 0.003969,
     "end_time": "2023-09-10T20:55:55.797640",
     "exception": false,
     "start_time": "2023-09-10T20:55:55.793671",
     "status": "completed"
    },
    "tags": []
   },
   "source": [
    "adaboost"
   ]
  },
  {
   "cell_type": "code",
   "execution_count": 3,
   "id": "4197d228",
   "metadata": {
    "execution": {
     "iopub.execute_input": "2023-09-10T20:55:55.807442Z",
     "iopub.status.busy": "2023-09-10T20:55:55.807053Z",
     "iopub.status.idle": "2023-09-10T21:04:12.680266Z",
     "shell.execute_reply": "2023-09-10T21:04:12.679597Z"
    },
    "papermill": {
     "duration": 496.884806,
     "end_time": "2023-09-10T21:04:12.686454",
     "exception": false,
     "start_time": "2023-09-10T20:55:55.801648",
     "status": "completed"
    },
    "tags": []
   },
   "outputs": [
    {
     "data": {
      "text/html": [
       "<style>#sk-container-id-1 {color: black;background-color: white;}#sk-container-id-1 pre{padding: 0;}#sk-container-id-1 div.sk-toggleable {background-color: white;}#sk-container-id-1 label.sk-toggleable__label {cursor: pointer;display: block;width: 100%;margin-bottom: 0;padding: 0.3em;box-sizing: border-box;text-align: center;}#sk-container-id-1 label.sk-toggleable__label-arrow:before {content: \"▸\";float: left;margin-right: 0.25em;color: #696969;}#sk-container-id-1 label.sk-toggleable__label-arrow:hover:before {color: black;}#sk-container-id-1 div.sk-estimator:hover label.sk-toggleable__label-arrow:before {color: black;}#sk-container-id-1 div.sk-toggleable__content {max-height: 0;max-width: 0;overflow: hidden;text-align: left;background-color: #f0f8ff;}#sk-container-id-1 div.sk-toggleable__content pre {margin: 0.2em;color: black;border-radius: 0.25em;background-color: #f0f8ff;}#sk-container-id-1 input.sk-toggleable__control:checked~div.sk-toggleable__content {max-height: 200px;max-width: 100%;overflow: auto;}#sk-container-id-1 input.sk-toggleable__control:checked~label.sk-toggleable__label-arrow:before {content: \"▾\";}#sk-container-id-1 div.sk-estimator input.sk-toggleable__control:checked~label.sk-toggleable__label {background-color: #d4ebff;}#sk-container-id-1 div.sk-label input.sk-toggleable__control:checked~label.sk-toggleable__label {background-color: #d4ebff;}#sk-container-id-1 input.sk-hidden--visually {border: 0;clip: rect(1px 1px 1px 1px);clip: rect(1px, 1px, 1px, 1px);height: 1px;margin: -1px;overflow: hidden;padding: 0;position: absolute;width: 1px;}#sk-container-id-1 div.sk-estimator {font-family: monospace;background-color: #f0f8ff;border: 1px dotted black;border-radius: 0.25em;box-sizing: border-box;margin-bottom: 0.5em;}#sk-container-id-1 div.sk-estimator:hover {background-color: #d4ebff;}#sk-container-id-1 div.sk-parallel-item::after {content: \"\";width: 100%;border-bottom: 1px solid gray;flex-grow: 1;}#sk-container-id-1 div.sk-label:hover label.sk-toggleable__label {background-color: #d4ebff;}#sk-container-id-1 div.sk-serial::before {content: \"\";position: absolute;border-left: 1px solid gray;box-sizing: border-box;top: 0;bottom: 0;left: 50%;z-index: 0;}#sk-container-id-1 div.sk-serial {display: flex;flex-direction: column;align-items: center;background-color: white;padding-right: 0.2em;padding-left: 0.2em;position: relative;}#sk-container-id-1 div.sk-item {position: relative;z-index: 1;}#sk-container-id-1 div.sk-parallel {display: flex;align-items: stretch;justify-content: center;background-color: white;position: relative;}#sk-container-id-1 div.sk-item::before, #sk-container-id-1 div.sk-parallel-item::before {content: \"\";position: absolute;border-left: 1px solid gray;box-sizing: border-box;top: 0;bottom: 0;left: 50%;z-index: -1;}#sk-container-id-1 div.sk-parallel-item {display: flex;flex-direction: column;z-index: 1;position: relative;background-color: white;}#sk-container-id-1 div.sk-parallel-item:first-child::after {align-self: flex-end;width: 50%;}#sk-container-id-1 div.sk-parallel-item:last-child::after {align-self: flex-start;width: 50%;}#sk-container-id-1 div.sk-parallel-item:only-child::after {width: 0;}#sk-container-id-1 div.sk-dashed-wrapped {border: 1px dashed gray;margin: 0 0.4em 0.5em 0.4em;box-sizing: border-box;padding-bottom: 0.4em;background-color: white;}#sk-container-id-1 div.sk-label label {font-family: monospace;font-weight: bold;display: inline-block;line-height: 1.2em;}#sk-container-id-1 div.sk-label-container {text-align: center;}#sk-container-id-1 div.sk-container {/* jupyter's `normalize.less` sets `[hidden] { display: none; }` but bootstrap.min.css set `[hidden] { display: none !important; }` so we also need the `!important` here to be able to override the default hidden behavior on the sphinx rendered scikit-learn.org. See: https://github.com/scikit-learn/scikit-learn/issues/21755 */display: inline-block !important;position: relative;}#sk-container-id-1 div.sk-text-repr-fallback {display: none;}</style><div id=\"sk-container-id-1\" class=\"sk-top-container\"><div class=\"sk-text-repr-fallback\"><pre>AdaBoostClassifier(random_state=42)</pre><b>In a Jupyter environment, please rerun this cell to show the HTML representation or trust the notebook. <br />On GitHub, the HTML representation is unable to render, please try loading this page with nbviewer.org.</b></div><div class=\"sk-container\" hidden><div class=\"sk-item\"><div class=\"sk-estimator sk-toggleable\"><input class=\"sk-toggleable__control sk-hidden--visually\" id=\"sk-estimator-id-1\" type=\"checkbox\" checked><label for=\"sk-estimator-id-1\" class=\"sk-toggleable__label sk-toggleable__label-arrow\">AdaBoostClassifier</label><div class=\"sk-toggleable__content\"><pre>AdaBoostClassifier(random_state=42)</pre></div></div></div></div></div>"
      ],
      "text/plain": [
       "AdaBoostClassifier(random_state=42)"
      ]
     },
     "execution_count": 3,
     "metadata": {},
     "output_type": "execute_result"
    }
   ],
   "source": [
    "from sklearn.ensemble import AdaBoostClassifier\n",
    "from sklearn.metrics import accuracy_score\n",
    "from sklearn.model_selection import train_test_split\n",
    "\n",
    "X_train = train[[\"anglez\",\"enmo\",\"hour\"]]\n",
    "y_train = train[\"awake\"]\n",
    "\n",
    "\n",
    "# Initialize and train an AdaBoost classifier with Decision Trees\n",
    "classifier = AdaBoostClassifier(n_estimators=50, random_state=42)\n",
    "classifier.fit(X_train, y_train)\n",
    "\n"
   ]
  },
  {
   "cell_type": "markdown",
   "id": "1b960f11",
   "metadata": {
    "papermill": {
     "duration": 0.00415,
     "end_time": "2023-09-10T21:04:12.694802",
     "exception": false,
     "start_time": "2023-09-10T21:04:12.690652",
     "status": "completed"
    },
    "tags": []
   },
   "source": [
    "svm"
   ]
  },
  {
   "cell_type": "markdown",
   "id": "cb06f8f3",
   "metadata": {
    "papermill": {
     "duration": 0.004589,
     "end_time": "2023-09-10T21:04:12.703557",
     "exception": false,
     "start_time": "2023-09-10T21:04:12.698968",
     "status": "completed"
    },
    "tags": []
   },
   "source": [
    "from sklearn.svm import SVC\n",
    "from sklearn.metrics import accuracy_score\n",
    "from sklearn.model_selection import train_test_split\n",
    "from sklearn.preprocessing import StandardScaler\n",
    "\n",
    "# Load your dataset and split into features (X) and target (y)\n",
    "X, y = ...\n",
    "\n",
    "# Split data into training and testing sets\n",
    "X_train, X_test, y_train, y_test = train_test_split(X, y, test_size=0.2, random_state=42)\n",
    "\n",
    "# Feature scaling (important for SVM)\n",
    "scaler = StandardScaler()\n",
    "X_train = scaler.fit_transform(X_train)\n",
    "X_test = scaler.transform(X_test)\n",
    "\n",
    "# Initialize and train an SVM classifier\n",
    "svm_classifier = SVC(kernel='linear', C=1.0)\n",
    "svm_classifier.fit(X_train, y_train)\n",
    "\n",
    "# Make predictions on the test set\n",
    "y_pred = svm_classifier.predict(X_test)\n",
    "\n",
    "# Evaluate the model's accuracy\n",
    "accuracy = accuracy_score(y_test, y_pred)\n",
    "print(f\"Accuracy: {accuracy}\")\n"
   ]
  },
  {
   "cell_type": "code",
   "execution_count": 4,
   "id": "d2da4a49",
   "metadata": {
    "execution": {
     "iopub.execute_input": "2023-09-10T21:04:12.715971Z",
     "iopub.status.busy": "2023-09-10T21:04:12.714944Z",
     "iopub.status.idle": "2023-09-10T21:04:12.736603Z",
     "shell.execute_reply": "2023-09-10T21:04:12.735589Z"
    },
    "papermill": {
     "duration": 0.029158,
     "end_time": "2023-09-10T21:04:12.738348",
     "exception": false,
     "start_time": "2023-09-10T21:04:12.709190",
     "status": "completed"
    },
    "tags": []
   },
   "outputs": [
    {
     "data": {
      "text/plain": [
       "0      0.536756\n",
       "1      0.536756\n",
       "2      0.536756\n",
       "3      0.536756\n",
       "4      0.536756\n",
       "         ...   \n",
       "445    0.540114\n",
       "446    0.537152\n",
       "447    0.533519\n",
       "448    0.529884\n",
       "449    0.530794\n",
       "Name: score, Length: 450, dtype: float64"
      ]
     },
     "execution_count": 4,
     "metadata": {},
     "output_type": "execute_result"
    }
   ],
   "source": [
    "X_test = test[[\"anglez\",\"enmo\",\"hour\"]]\n",
    "test[\"score\"] = classifier.predict_proba(X_test)[:,1]\n",
    "test[\"score\"]"
   ]
  },
  {
   "cell_type": "code",
   "execution_count": 5,
   "id": "8e291b08",
   "metadata": {
    "execution": {
     "iopub.execute_input": "2023-09-10T21:04:12.749334Z",
     "iopub.status.busy": "2023-09-10T21:04:12.748897Z",
     "iopub.status.idle": "2023-09-10T21:04:12.762709Z",
     "shell.execute_reply": "2023-09-10T21:04:12.761532Z"
    },
    "papermill": {
     "duration": 0.02162,
     "end_time": "2023-09-10T21:04:12.764568",
     "exception": false,
     "start_time": "2023-09-10T21:04:12.742948",
     "status": "completed"
    },
    "tags": []
   },
   "outputs": [
    {
     "name": "stdout",
     "output_type": "stream",
     "text": [
      "0      0.0\n",
      "1      0.0\n",
      "2      0.0\n",
      "3      0.0\n",
      "4      0.0\n",
      "      ... \n",
      "445    0.0\n",
      "446    0.0\n",
      "447    0.0\n",
      "448    0.0\n",
      "449    0.0\n",
      "Name: smooth, Length: 450, dtype: float64\n",
      "0      0\n",
      "1      0\n",
      "2      0\n",
      "3      0\n",
      "4      0\n",
      "      ..\n",
      "445    0\n",
      "446    0\n",
      "447    0\n",
      "448    0\n",
      "449    0\n",
      "Name: event, Length: 450, dtype: int64\n"
     ]
    }
   ],
   "source": [
    "test[\"not_awake\"] = 1-test[\"score\"]\n",
    "# exponential smoothing of the predictions\n",
    "test[\"smooth\"] = test[\"not_awake\"].ewm(span = 100).mean()\n",
    "# re-binarize\n",
    "test[\"smooth\"] = test[\"smooth\"].round()\n",
    "print(test[\"smooth\"])\n",
    "# https://stackoverflow.com/questions/73777727/how-to-mark-start-end-of-a-series-of-non-null-and-non-0-values-in-a-column-of-a\n",
    "def get_event(df):\n",
    "    lstCV = zip(df.series_id, df.smooth)\n",
    "    lstPOI = []\n",
    "    for (c, v), g in groupby(lstCV, lambda cv: \n",
    "                            (cv[0], cv[1]!=0 and not pd.isnull(cv[1]))):\n",
    "        llg = sum(1 for item in g)\n",
    "        if v is False: \n",
    "            lstPOI.extend([0]*llg)\n",
    "        else: \n",
    "            lstPOI.extend(['onset']+(llg-2)*[0]+['wakeup'] if llg > 1 else [0])\n",
    "    return lstPOI\n",
    "\n",
    "test[\"event\"] = get_event(test)\n",
    "print(test[\"event\"])"
   ]
  },
  {
   "cell_type": "code",
   "execution_count": 6,
   "id": "ff6fb730",
   "metadata": {
    "execution": {
     "iopub.execute_input": "2023-09-10T21:04:12.776756Z",
     "iopub.status.busy": "2023-09-10T21:04:12.776369Z",
     "iopub.status.idle": "2023-09-10T21:04:12.801229Z",
     "shell.execute_reply": "2023-09-10T21:04:12.799664Z"
    },
    "papermill": {
     "duration": 0.034363,
     "end_time": "2023-09-10T21:04:12.803897",
     "exception": false,
     "start_time": "2023-09-10T21:04:12.769534",
     "status": "completed"
    },
    "tags": []
   },
   "outputs": [],
   "source": [
    "sample_submission = test.loc[test[\"event\"] != 0][[\"series_id\",\"step\",\"event\",\"score\"]].copy().reset_index(drop=True).reset_index(names=\"row_id\")\n",
    "sample_submission.to_csv('submission.csv', index=False)"
   ]
  }
 ],
 "kernelspec": {
  "display_name": "Python 3",
  "language": "python",
  "name": "python3"
 },
 "language_info": {
  "codemirror_mode": {
   "name": "ipython",
   "version": 3
  },
  "file_extension": ".py",
  "mimetype": "text/x-python",
  "name": "python",
  "nbconvert_exporter": "python",
  "pygments_lexer": "ipython3",
  "version": "3.6.4"
 },
 "metadata": {
  "kernelspec": {
   "display_name": "Python 3",
   "language": "python",
   "name": "python3"
  },
  "language_info": {
   "codemirror_mode": {
    "name": "ipython",
    "version": 3
   },
   "file_extension": ".py",
   "mimetype": "text/x-python",
   "name": "python",
   "nbconvert_exporter": "python",
   "pygments_lexer": "ipython3",
   "version": "3.10.12"
  },
  "papermill": {
   "default_parameters": {},
   "duration": 562.249474,
   "end_time": "2023-09-10T21:04:13.530908",
   "environment_variables": {},
   "exception": null,
   "input_path": "__notebook__.ipynb",
   "output_path": "__notebook__.ipynb",
   "parameters": {},
   "start_time": "2023-09-10T20:54:51.281434",
   "version": "2.4.0"
  }
 },
 "nbformat": 4,
 "nbformat_minor": 5
}
