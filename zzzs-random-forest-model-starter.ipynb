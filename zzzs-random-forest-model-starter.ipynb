{
 "cells": [
  {
   "cell_type": "markdown",
   "id": "215426c0",
   "metadata": {
    "_cell_guid": "b1076dfc-b9ad-4769-8c92-a6c4dae69d19",
    "_uuid": "8f2839f25d086af736a60e9eeb907d3b93b6e0e5",
    "papermill": {
     "duration": 0.007243,
     "end_time": "2023-09-10T19:53:16.807031",
     "exception": false,
     "start_time": "2023-09-10T19:53:16.799788",
     "status": "completed"
    },
    "tags": []
   },
   "source": [
    "### Simple Random Forest classifier submission\n",
    "**Author: [Carl McBride Ellis](https://www.kaggle.com/carlmcbrideellis)** ([LinkedIn](https://www.linkedin.com/in/carl-mcbride-ellis/))\n",
    "\n",
    "\n",
    "We shall be using the training data from the reduced dataset [\"Zzzs: Lightweight training dataset + target\"](https://www.kaggle.com/datasets/carlmcbrideellis/zzzs-lightweight-training-dataset-target)"
   ]
  },
  {
   "cell_type": "code",
   "execution_count": 1,
   "id": "5ae9bdfb",
   "metadata": {
    "_kg_hide-input": true,
    "execution": {
     "iopub.execute_input": "2023-09-10T19:53:16.822850Z",
     "iopub.status.busy": "2023-09-10T19:53:16.822304Z",
     "iopub.status.idle": "2023-09-10T19:53:17.248061Z",
     "shell.execute_reply": "2023-09-10T19:53:17.246558Z"
    },
    "papermill": {
     "duration": 0.43723,
     "end_time": "2023-09-10T19:53:17.251188",
     "exception": false,
     "start_time": "2023-09-10T19:53:16.813958",
     "status": "completed"
    },
    "tags": []
   },
   "outputs": [],
   "source": [
    "import numpy as np\n",
    "import pandas as pd\n",
    "from itertools import groupby"
   ]
  },
  {
   "cell_type": "code",
   "execution_count": 2,
   "id": "7633977d",
   "metadata": {
    "execution": {
     "iopub.execute_input": "2023-09-10T19:53:17.267811Z",
     "iopub.status.busy": "2023-09-10T19:53:17.266349Z",
     "iopub.status.idle": "2023-09-10T19:55:18.624742Z",
     "shell.execute_reply": "2023-09-10T19:55:18.623355Z"
    },
    "papermill": {
     "duration": 121.370472,
     "end_time": "2023-09-10T19:55:18.628568",
     "exception": false,
     "start_time": "2023-09-10T19:53:17.258096",
     "status": "completed"
    },
    "tags": []
   },
   "outputs": [],
   "source": [
    "train = pd.read_parquet(\"/kaggle/input/zzzs-lightweight-training-dataset-target/Zzzs_train.parquet\")\n",
    "test  = pd.read_parquet(\"/kaggle/input/child-mind-institute-detect-sleep-states/test_series.parquet\")\n",
    "train.dropna()\n",
    "test.dropna()\n",
    "# parse the timestamp and create an \"hour\" feature\n",
    "train[\"timestamp\"] = pd.to_datetime(train[\"timestamp\"],utc=True)\n",
    "train[\"hour\"] = train[\"timestamp\"].dt.hour\n",
    "\n",
    "test[\"timestamp\"] = pd.to_datetime(test[\"timestamp\"],utc=True)\n",
    "test[\"hour\"] = test[\"timestamp\"].dt.hour"
   ]
  },
  {
   "cell_type": "markdown",
   "id": "c45701d6",
   "metadata": {
    "papermill": {
     "duration": 0.006622,
     "end_time": "2023-09-10T19:55:18.642527",
     "exception": false,
     "start_time": "2023-09-10T19:55:18.635905",
     "status": "completed"
    },
    "tags": []
   },
   "source": [
    "random forest"
   ]
  },
  {
   "cell_type": "markdown",
   "id": "90e9c901",
   "metadata": {
    "execution": {
     "iopub.execute_input": "2023-09-10T17:19:26.327201Z",
     "iopub.status.busy": "2023-09-10T17:19:26.326659Z",
     "iopub.status.idle": "2023-09-10T17:52:40.196060Z",
     "shell.execute_reply": "2023-09-10T17:52:40.195017Z",
     "shell.execute_reply.started": "2023-09-10T17:19:26.327149Z"
    },
    "papermill": {
     "duration": 0.006641,
     "end_time": "2023-09-10T19:55:18.656535",
     "exception": false,
     "start_time": "2023-09-10T19:55:18.649894",
     "status": "completed"
    },
    "tags": []
   },
   "source": [
    "%%time\n",
    "from sklearn.ensemble import RandomForestClassifier\n",
    "from sklearn.utils import resample\n",
    "\n",
    "X_train = train[[\"anglez\",\"enmo\",\"hour\"]]\n",
    "y_train = train[\"awake\"]\n",
    "\n",
    "classifier = RandomForestClassifier(n_estimators=100,\n",
    "                                    max_depth=10,\n",
    "                                    min_samples_leaf=500,random_state=42)\n",
    "\n",
    "\n",
    "\n",
    "classifier.fit(X_train, y_train)"
   ]
  },
  {
   "cell_type": "markdown",
   "id": "9e2e3deb",
   "metadata": {
    "papermill": {
     "duration": 0.006499,
     "end_time": "2023-09-10T19:55:18.669945",
     "exception": false,
     "start_time": "2023-09-10T19:55:18.663446",
     "status": "completed"
    },
    "tags": []
   },
   "source": [
    "gxboost"
   ]
  },
  {
   "cell_type": "code",
   "execution_count": 3,
   "id": "e22be759",
   "metadata": {
    "execution": {
     "iopub.execute_input": "2023-09-10T19:55:18.685916Z",
     "iopub.status.busy": "2023-09-10T19:55:18.685500Z",
     "iopub.status.idle": "2023-09-10T20:00:16.876682Z",
     "shell.execute_reply": "2023-09-10T20:00:16.875265Z"
    },
    "papermill": {
     "duration": 298.206681,
     "end_time": "2023-09-10T20:00:16.883690",
     "exception": false,
     "start_time": "2023-09-10T19:55:18.677009",
     "status": "completed"
    },
    "tags": []
   },
   "outputs": [
    {
     "data": {
      "text/html": [
       "<style>#sk-container-id-1 {color: black;background-color: white;}#sk-container-id-1 pre{padding: 0;}#sk-container-id-1 div.sk-toggleable {background-color: white;}#sk-container-id-1 label.sk-toggleable__label {cursor: pointer;display: block;width: 100%;margin-bottom: 0;padding: 0.3em;box-sizing: border-box;text-align: center;}#sk-container-id-1 label.sk-toggleable__label-arrow:before {content: \"▸\";float: left;margin-right: 0.25em;color: #696969;}#sk-container-id-1 label.sk-toggleable__label-arrow:hover:before {color: black;}#sk-container-id-1 div.sk-estimator:hover label.sk-toggleable__label-arrow:before {color: black;}#sk-container-id-1 div.sk-toggleable__content {max-height: 0;max-width: 0;overflow: hidden;text-align: left;background-color: #f0f8ff;}#sk-container-id-1 div.sk-toggleable__content pre {margin: 0.2em;color: black;border-radius: 0.25em;background-color: #f0f8ff;}#sk-container-id-1 input.sk-toggleable__control:checked~div.sk-toggleable__content {max-height: 200px;max-width: 100%;overflow: auto;}#sk-container-id-1 input.sk-toggleable__control:checked~label.sk-toggleable__label-arrow:before {content: \"▾\";}#sk-container-id-1 div.sk-estimator input.sk-toggleable__control:checked~label.sk-toggleable__label {background-color: #d4ebff;}#sk-container-id-1 div.sk-label input.sk-toggleable__control:checked~label.sk-toggleable__label {background-color: #d4ebff;}#sk-container-id-1 input.sk-hidden--visually {border: 0;clip: rect(1px 1px 1px 1px);clip: rect(1px, 1px, 1px, 1px);height: 1px;margin: -1px;overflow: hidden;padding: 0;position: absolute;width: 1px;}#sk-container-id-1 div.sk-estimator {font-family: monospace;background-color: #f0f8ff;border: 1px dotted black;border-radius: 0.25em;box-sizing: border-box;margin-bottom: 0.5em;}#sk-container-id-1 div.sk-estimator:hover {background-color: #d4ebff;}#sk-container-id-1 div.sk-parallel-item::after {content: \"\";width: 100%;border-bottom: 1px solid gray;flex-grow: 1;}#sk-container-id-1 div.sk-label:hover label.sk-toggleable__label {background-color: #d4ebff;}#sk-container-id-1 div.sk-serial::before {content: \"\";position: absolute;border-left: 1px solid gray;box-sizing: border-box;top: 0;bottom: 0;left: 50%;z-index: 0;}#sk-container-id-1 div.sk-serial {display: flex;flex-direction: column;align-items: center;background-color: white;padding-right: 0.2em;padding-left: 0.2em;position: relative;}#sk-container-id-1 div.sk-item {position: relative;z-index: 1;}#sk-container-id-1 div.sk-parallel {display: flex;align-items: stretch;justify-content: center;background-color: white;position: relative;}#sk-container-id-1 div.sk-item::before, #sk-container-id-1 div.sk-parallel-item::before {content: \"\";position: absolute;border-left: 1px solid gray;box-sizing: border-box;top: 0;bottom: 0;left: 50%;z-index: -1;}#sk-container-id-1 div.sk-parallel-item {display: flex;flex-direction: column;z-index: 1;position: relative;background-color: white;}#sk-container-id-1 div.sk-parallel-item:first-child::after {align-self: flex-end;width: 50%;}#sk-container-id-1 div.sk-parallel-item:last-child::after {align-self: flex-start;width: 50%;}#sk-container-id-1 div.sk-parallel-item:only-child::after {width: 0;}#sk-container-id-1 div.sk-dashed-wrapped {border: 1px dashed gray;margin: 0 0.4em 0.5em 0.4em;box-sizing: border-box;padding-bottom: 0.4em;background-color: white;}#sk-container-id-1 div.sk-label label {font-family: monospace;font-weight: bold;display: inline-block;line-height: 1.2em;}#sk-container-id-1 div.sk-label-container {text-align: center;}#sk-container-id-1 div.sk-container {/* jupyter's `normalize.less` sets `[hidden] { display: none; }` but bootstrap.min.css set `[hidden] { display: none !important; }` so we also need the `!important` here to be able to override the default hidden behavior on the sphinx rendered scikit-learn.org. See: https://github.com/scikit-learn/scikit-learn/issues/21755 */display: inline-block !important;position: relative;}#sk-container-id-1 div.sk-text-repr-fallback {display: none;}</style><div id=\"sk-container-id-1\" class=\"sk-top-container\"><div class=\"sk-text-repr-fallback\"><pre>XGBClassifier(base_score=None, booster=None, callbacks=None,\n",
       "              colsample_bylevel=None, colsample_bynode=None,\n",
       "              colsample_bytree=None, early_stopping_rounds=None,\n",
       "              enable_categorical=False, eval_metric=None, feature_types=None,\n",
       "              gamma=None, gpu_id=None, grow_policy=None, importance_type=None,\n",
       "              interaction_constraints=None, learning_rate=None, max_bin=None,\n",
       "              max_cat_threshold=None, max_cat_to_onehot=None,\n",
       "              max_delta_step=None, max_depth=None, max_leaves=None,\n",
       "              min_child_weight=None, missing=nan, monotone_constraints=None,\n",
       "              n_estimators=100, n_jobs=None, num_parallel_tree=None,\n",
       "              predictor=None, random_state=None, ...)</pre><b>In a Jupyter environment, please rerun this cell to show the HTML representation or trust the notebook. <br />On GitHub, the HTML representation is unable to render, please try loading this page with nbviewer.org.</b></div><div class=\"sk-container\" hidden><div class=\"sk-item\"><div class=\"sk-estimator sk-toggleable\"><input class=\"sk-toggleable__control sk-hidden--visually\" id=\"sk-estimator-id-1\" type=\"checkbox\" checked><label for=\"sk-estimator-id-1\" class=\"sk-toggleable__label sk-toggleable__label-arrow\">XGBClassifier</label><div class=\"sk-toggleable__content\"><pre>XGBClassifier(base_score=None, booster=None, callbacks=None,\n",
       "              colsample_bylevel=None, colsample_bynode=None,\n",
       "              colsample_bytree=None, early_stopping_rounds=None,\n",
       "              enable_categorical=False, eval_metric=None, feature_types=None,\n",
       "              gamma=None, gpu_id=None, grow_policy=None, importance_type=None,\n",
       "              interaction_constraints=None, learning_rate=None, max_bin=None,\n",
       "              max_cat_threshold=None, max_cat_to_onehot=None,\n",
       "              max_delta_step=None, max_depth=None, max_leaves=None,\n",
       "              min_child_weight=None, missing=nan, monotone_constraints=None,\n",
       "              n_estimators=100, n_jobs=None, num_parallel_tree=None,\n",
       "              predictor=None, random_state=None, ...)</pre></div></div></div></div></div>"
      ],
      "text/plain": [
       "XGBClassifier(base_score=None, booster=None, callbacks=None,\n",
       "              colsample_bylevel=None, colsample_bynode=None,\n",
       "              colsample_bytree=None, early_stopping_rounds=None,\n",
       "              enable_categorical=False, eval_metric=None, feature_types=None,\n",
       "              gamma=None, gpu_id=None, grow_policy=None, importance_type=None,\n",
       "              interaction_constraints=None, learning_rate=None, max_bin=None,\n",
       "              max_cat_threshold=None, max_cat_to_onehot=None,\n",
       "              max_delta_step=None, max_depth=None, max_leaves=None,\n",
       "              min_child_weight=None, missing=nan, monotone_constraints=None,\n",
       "              n_estimators=100, n_jobs=None, num_parallel_tree=None,\n",
       "              predictor=None, random_state=None, ...)"
      ]
     },
     "execution_count": 3,
     "metadata": {},
     "output_type": "execute_result"
    }
   ],
   "source": [
    "import xgboost as xgb\n",
    "from sklearn.metrics import accuracy_score\n",
    "from sklearn.model_selection import train_test_split\n",
    "\n",
    "X_train = train[[\"anglez\",\"enmo\",\"hour\"]]\n",
    "y_train = train[\"awake\"]\n",
    "\n",
    "# Initialize and train an XGBoost classifier\n",
    "classifier = xgb.XGBClassifier()\n",
    "classifier.fit(X_train, y_train)\n"
   ]
  },
  {
   "cell_type": "markdown",
   "id": "a5315757",
   "metadata": {
    "papermill": {
     "duration": 0.006722,
     "end_time": "2023-09-10T20:00:16.897706",
     "exception": false,
     "start_time": "2023-09-10T20:00:16.890984",
     "status": "completed"
    },
    "tags": []
   },
   "source": [
    "adaboost"
   ]
  },
  {
   "cell_type": "markdown",
   "id": "12b1015c",
   "metadata": {
    "papermill": {
     "duration": 0.006674,
     "end_time": "2023-09-10T20:00:16.911398",
     "exception": false,
     "start_time": "2023-09-10T20:00:16.904724",
     "status": "completed"
    },
    "tags": []
   },
   "source": [
    "from sklearn.ensemble import AdaBoostClassifier\n",
    "from sklearn.metrics import accuracy_score\n",
    "from sklearn.model_selection import train_test_split\n",
    "\n",
    "# Load your dataset and split into features (X) and target (y)\n",
    "X, y = ...\n",
    "\n",
    "# Split data into training and testing sets\n",
    "X_train, X_test, y_train, y_test = train_test_split(X, y, test_size=0.2, random_state=42)\n",
    "\n",
    "# Initialize and train an AdaBoost classifier with Decision Trees\n",
    "adaboost_classifier = AdaBoostClassifier(n_estimators=50, random_state=42)\n",
    "adaboost_classifier.fit(X_train, y_train)\n",
    "\n",
    "# Make predictions on the test set\n",
    "y_pred = adaboost_classifier.predict(X_test)\n",
    "\n",
    "# Evaluate the model's accuracy\n",
    "accuracy = accuracy_score(y_test, y_pred)\n",
    "print(f\"Accuracy: {accuracy}\")\n"
   ]
  },
  {
   "cell_type": "markdown",
   "id": "122654fc",
   "metadata": {
    "papermill": {
     "duration": 0.006644,
     "end_time": "2023-09-10T20:00:16.924946",
     "exception": false,
     "start_time": "2023-09-10T20:00:16.918302",
     "status": "completed"
    },
    "tags": []
   },
   "source": [
    "svm"
   ]
  },
  {
   "cell_type": "markdown",
   "id": "958ed6b9",
   "metadata": {
    "papermill": {
     "duration": 0.006788,
     "end_time": "2023-09-10T20:00:16.938713",
     "exception": false,
     "start_time": "2023-09-10T20:00:16.931925",
     "status": "completed"
    },
    "tags": []
   },
   "source": [
    "from sklearn.svm import SVC\n",
    "from sklearn.metrics import accuracy_score\n",
    "from sklearn.model_selection import train_test_split\n",
    "from sklearn.preprocessing import StandardScaler\n",
    "\n",
    "# Load your dataset and split into features (X) and target (y)\n",
    "X, y = ...\n",
    "\n",
    "# Split data into training and testing sets\n",
    "X_train, X_test, y_train, y_test = train_test_split(X, y, test_size=0.2, random_state=42)\n",
    "\n",
    "# Feature scaling (important for SVM)\n",
    "scaler = StandardScaler()\n",
    "X_train = scaler.fit_transform(X_train)\n",
    "X_test = scaler.transform(X_test)\n",
    "\n",
    "# Initialize and train an SVM classifier\n",
    "svm_classifier = SVC(kernel='linear', C=1.0)\n",
    "svm_classifier.fit(X_train, y_train)\n",
    "\n",
    "# Make predictions on the test set\n",
    "y_pred = svm_classifier.predict(X_test)\n",
    "\n",
    "# Evaluate the model's accuracy\n",
    "accuracy = accuracy_score(y_test, y_pred)\n",
    "print(f\"Accuracy: {accuracy}\")\n"
   ]
  },
  {
   "cell_type": "code",
   "execution_count": 4,
   "id": "eef34b4c",
   "metadata": {
    "execution": {
     "iopub.execute_input": "2023-09-10T20:00:16.955279Z",
     "iopub.status.busy": "2023-09-10T20:00:16.954111Z",
     "iopub.status.idle": "2023-09-10T20:00:16.978181Z",
     "shell.execute_reply": "2023-09-10T20:00:16.977074Z"
    },
    "papermill": {
     "duration": 0.03531,
     "end_time": "2023-09-10T20:00:16.980881",
     "exception": false,
     "start_time": "2023-09-10T20:00:16.945571",
     "status": "completed"
    },
    "tags": []
   },
   "outputs": [
    {
     "data": {
      "text/plain": [
       "0      0.999991\n",
       "1      0.999991\n",
       "2      0.999991\n",
       "3      0.999991\n",
       "4      0.999991\n",
       "         ...   \n",
       "445    0.999884\n",
       "446    0.999856\n",
       "447    0.999799\n",
       "448    0.999841\n",
       "449    0.999729\n",
       "Name: score, Length: 450, dtype: float32"
      ]
     },
     "execution_count": 4,
     "metadata": {},
     "output_type": "execute_result"
    }
   ],
   "source": [
    "X_test = test[[\"anglez\",\"enmo\",\"hour\"]]\n",
    "test[\"score\"] = classifier.predict_proba(X_test)[:,1]\n",
    "test[\"score\"]"
   ]
  },
  {
   "cell_type": "code",
   "execution_count": 5,
   "id": "bde3701b",
   "metadata": {
    "execution": {
     "iopub.execute_input": "2023-09-10T20:00:16.998267Z",
     "iopub.status.busy": "2023-09-10T20:00:16.997442Z",
     "iopub.status.idle": "2023-09-10T20:00:17.016051Z",
     "shell.execute_reply": "2023-09-10T20:00:17.014984Z"
    },
    "papermill": {
     "duration": 0.030515,
     "end_time": "2023-09-10T20:00:17.019233",
     "exception": false,
     "start_time": "2023-09-10T20:00:16.988718",
     "status": "completed"
    },
    "tags": []
   },
   "outputs": [
    {
     "name": "stdout",
     "output_type": "stream",
     "text": [
      "0      0.0\n",
      "1      0.0\n",
      "2      0.0\n",
      "3      0.0\n",
      "4      0.0\n",
      "      ... \n",
      "445    0.0\n",
      "446    0.0\n",
      "447    0.0\n",
      "448    0.0\n",
      "449    0.0\n",
      "Name: smooth, Length: 450, dtype: float64\n",
      "0      0\n",
      "1      0\n",
      "2      0\n",
      "3      0\n",
      "4      0\n",
      "      ..\n",
      "445    0\n",
      "446    0\n",
      "447    0\n",
      "448    0\n",
      "449    0\n",
      "Name: event, Length: 450, dtype: int64\n"
     ]
    }
   ],
   "source": [
    "test[\"not_awake\"] = 1-test[\"score\"]\n",
    "# exponential smoothing of the predictions\n",
    "test[\"smooth\"] = test[\"not_awake\"].ewm(span = 100).mean()\n",
    "# re-binarize\n",
    "test[\"smooth\"] = test[\"smooth\"].round()\n",
    "print(test[\"smooth\"])\n",
    "# https://stackoverflow.com/questions/73777727/how-to-mark-start-end-of-a-series-of-non-null-and-non-0-values-in-a-column-of-a\n",
    "def get_event(df):\n",
    "    lstCV = zip(df.series_id, df.smooth)\n",
    "    lstPOI = []\n",
    "    for (c, v), g in groupby(lstCV, lambda cv: \n",
    "                            (cv[0], cv[1]!=0 and not pd.isnull(cv[1]))):\n",
    "        llg = sum(1 for item in g)\n",
    "        if v is False: \n",
    "            lstPOI.extend([0]*llg)\n",
    "        else: \n",
    "            lstPOI.extend(['onset']+(llg-2)*[0]+['wakeup'] if llg > 1 else [0])\n",
    "    return lstPOI\n",
    "\n",
    "test[\"event\"] = get_event(test)\n",
    "print(test[\"event\"])"
   ]
  },
  {
   "cell_type": "code",
   "execution_count": 6,
   "id": "773be9a2",
   "metadata": {
    "execution": {
     "iopub.execute_input": "2023-09-10T20:00:17.035623Z",
     "iopub.status.busy": "2023-09-10T20:00:17.035214Z",
     "iopub.status.idle": "2023-09-10T20:00:17.053889Z",
     "shell.execute_reply": "2023-09-10T20:00:17.052875Z"
    },
    "papermill": {
     "duration": 0.029902,
     "end_time": "2023-09-10T20:00:17.056664",
     "exception": false,
     "start_time": "2023-09-10T20:00:17.026762",
     "status": "completed"
    },
    "tags": []
   },
   "outputs": [],
   "source": [
    "sample_submission = test.loc[test[\"event\"] != 0][[\"series_id\",\"step\",\"event\",\"score\"]].copy().reset_index(drop=True).reset_index(names=\"row_id\")\n",
    "sample_submission.to_csv('submission.csv', index=False)"
   ]
  }
 ],
 "kernelspec": {
  "display_name": "Python 3",
  "language": "python",
  "name": "python3"
 },
 "language_info": {
  "codemirror_mode": {
   "name": "ipython",
   "version": 3
  },
  "file_extension": ".py",
  "mimetype": "text/x-python",
  "name": "python",
  "nbconvert_exporter": "python",
  "pygments_lexer": "ipython3",
  "version": "3.6.4"
 },
 "metadata": {
  "kernelspec": {
   "display_name": "Python 3",
   "language": "python",
   "name": "python3"
  },
  "language_info": {
   "codemirror_mode": {
    "name": "ipython",
    "version": 3
   },
   "file_extension": ".py",
   "mimetype": "text/x-python",
   "name": "python",
   "nbconvert_exporter": "python",
   "pygments_lexer": "ipython3",
   "version": "3.10.12"
  },
  "papermill": {
   "default_parameters": {},
   "duration": 425.067804,
   "end_time": "2023-09-10T20:00:18.088686",
   "environment_variables": {},
   "exception": null,
   "input_path": "__notebook__.ipynb",
   "output_path": "__notebook__.ipynb",
   "parameters": {},
   "start_time": "2023-09-10T19:53:13.020882",
   "version": "2.4.0"
  }
 },
 "nbformat": 4,
 "nbformat_minor": 5
}
